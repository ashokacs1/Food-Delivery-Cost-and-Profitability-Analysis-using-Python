{
 "cells": [
  {
   "cell_type": "code",
   "execution_count": 2,
   "metadata": {},
   "outputs": [],
   "source": [
    "import pandas as pd\n",
    "import numpy as np\n",
    "import matplotlib.pyplot as plt\n",
    "import warnings\n",
    "warnings.filterwarnings('ignore')"
   ]
  },
  {
   "cell_type": "markdown",
   "metadata": {},
   "source": [
    "## Load the Dataset"
   ]
  },
  {
   "cell_type": "code",
   "execution_count": 3,
   "metadata": {},
   "outputs": [
    {
     "data": {
      "text/html": [
       "<div>\n",
       "<style scoped>\n",
       "    .dataframe tbody tr th:only-of-type {\n",
       "        vertical-align: middle;\n",
       "    }\n",
       "\n",
       "    .dataframe tbody tr th {\n",
       "        vertical-align: top;\n",
       "    }\n",
       "\n",
       "    .dataframe thead th {\n",
       "        text-align: right;\n",
       "    }\n",
       "</style>\n",
       "<table border=\"1\" class=\"dataframe\">\n",
       "  <thead>\n",
       "    <tr style=\"text-align: right;\">\n",
       "      <th></th>\n",
       "      <th>Order ID</th>\n",
       "      <th>Customer ID</th>\n",
       "      <th>Restaurant ID</th>\n",
       "      <th>Order Date and Time</th>\n",
       "      <th>Delivery Date and Time</th>\n",
       "      <th>Order Value</th>\n",
       "      <th>Delivery Fee</th>\n",
       "      <th>Payment Method</th>\n",
       "      <th>Discounts and Offers</th>\n",
       "      <th>Commission Fee</th>\n",
       "      <th>Payment Processing Fee</th>\n",
       "      <th>Refunds/Chargebacks</th>\n",
       "    </tr>\n",
       "  </thead>\n",
       "  <tbody>\n",
       "    <tr>\n",
       "      <th>0</th>\n",
       "      <td>1</td>\n",
       "      <td>C8270</td>\n",
       "      <td>R2924</td>\n",
       "      <td>2024-02-01 01:11:52</td>\n",
       "      <td>2024-02-01 02:39:52</td>\n",
       "      <td>1914</td>\n",
       "      <td>0</td>\n",
       "      <td>Credit Card</td>\n",
       "      <td>5% on App</td>\n",
       "      <td>150</td>\n",
       "      <td>47</td>\n",
       "      <td>0</td>\n",
       "    </tr>\n",
       "    <tr>\n",
       "      <th>1</th>\n",
       "      <td>2</td>\n",
       "      <td>C1860</td>\n",
       "      <td>R2054</td>\n",
       "      <td>2024-02-02 22:11:04</td>\n",
       "      <td>2024-02-02 22:46:04</td>\n",
       "      <td>986</td>\n",
       "      <td>40</td>\n",
       "      <td>Digital Wallet</td>\n",
       "      <td>10%</td>\n",
       "      <td>198</td>\n",
       "      <td>23</td>\n",
       "      <td>0</td>\n",
       "    </tr>\n",
       "    <tr>\n",
       "      <th>2</th>\n",
       "      <td>3</td>\n",
       "      <td>C6390</td>\n",
       "      <td>R2870</td>\n",
       "      <td>2024-01-31 05:54:35</td>\n",
       "      <td>2024-01-31 06:52:35</td>\n",
       "      <td>937</td>\n",
       "      <td>30</td>\n",
       "      <td>Cash on Delivery</td>\n",
       "      <td>15% New User</td>\n",
       "      <td>195</td>\n",
       "      <td>45</td>\n",
       "      <td>0</td>\n",
       "    </tr>\n",
       "    <tr>\n",
       "      <th>3</th>\n",
       "      <td>4</td>\n",
       "      <td>C6191</td>\n",
       "      <td>R2642</td>\n",
       "      <td>2024-01-16 22:52:49</td>\n",
       "      <td>2024-01-16 23:38:49</td>\n",
       "      <td>1463</td>\n",
       "      <td>50</td>\n",
       "      <td>Cash on Delivery</td>\n",
       "      <td>NaN</td>\n",
       "      <td>146</td>\n",
       "      <td>27</td>\n",
       "      <td>0</td>\n",
       "    </tr>\n",
       "    <tr>\n",
       "      <th>4</th>\n",
       "      <td>5</td>\n",
       "      <td>C6734</td>\n",
       "      <td>R2799</td>\n",
       "      <td>2024-01-29 01:19:30</td>\n",
       "      <td>2024-01-29 02:48:30</td>\n",
       "      <td>1992</td>\n",
       "      <td>30</td>\n",
       "      <td>Cash on Delivery</td>\n",
       "      <td>50 off Promo</td>\n",
       "      <td>130</td>\n",
       "      <td>50</td>\n",
       "      <td>0</td>\n",
       "    </tr>\n",
       "  </tbody>\n",
       "</table>\n",
       "</div>"
      ],
      "text/plain": [
       "   Order ID Customer ID Restaurant ID  Order Date and Time  \\\n",
       "0         1       C8270         R2924  2024-02-01 01:11:52   \n",
       "1         2       C1860         R2054  2024-02-02 22:11:04   \n",
       "2         3       C6390         R2870  2024-01-31 05:54:35   \n",
       "3         4       C6191         R2642  2024-01-16 22:52:49   \n",
       "4         5       C6734         R2799  2024-01-29 01:19:30   \n",
       "\n",
       "  Delivery Date and Time  Order Value  Delivery Fee    Payment Method  \\\n",
       "0    2024-02-01 02:39:52         1914             0       Credit Card   \n",
       "1    2024-02-02 22:46:04          986            40    Digital Wallet   \n",
       "2    2024-01-31 06:52:35          937            30  Cash on Delivery   \n",
       "3    2024-01-16 23:38:49         1463            50  Cash on Delivery   \n",
       "4    2024-01-29 02:48:30         1992            30  Cash on Delivery   \n",
       "\n",
       "  Discounts and Offers  Commission Fee  Payment Processing Fee  \\\n",
       "0            5% on App             150                      47   \n",
       "1                  10%             198                      23   \n",
       "2         15% New User             195                      45   \n",
       "3                  NaN             146                      27   \n",
       "4         50 off Promo             130                      50   \n",
       "\n",
       "   Refunds/Chargebacks  \n",
       "0                    0  \n",
       "1                    0  \n",
       "2                    0  \n",
       "3                    0  \n",
       "4                    0  "
      ]
     },
     "execution_count": 3,
     "metadata": {},
     "output_type": "execute_result"
    }
   ],
   "source": [
    "df = pd.read_csv(r'c:\\Users\\Administrator\\Downloads\\Food_orders.csv')\n",
    "df.head()"
   ]
  },
  {
   "cell_type": "code",
   "execution_count": 4,
   "metadata": {},
   "outputs": [
    {
     "name": "stdout",
     "output_type": "stream",
     "text": [
      "<class 'pandas.core.frame.DataFrame'>\n",
      "RangeIndex: 1000 entries, 0 to 999\n",
      "Data columns (total 12 columns):\n",
      " #   Column                  Non-Null Count  Dtype \n",
      "---  ------                  --------------  ----- \n",
      " 0   Order ID                1000 non-null   int64 \n",
      " 1   Customer ID             1000 non-null   object\n",
      " 2   Restaurant ID           1000 non-null   object\n",
      " 3   Order Date and Time     1000 non-null   object\n",
      " 4   Delivery Date and Time  1000 non-null   object\n",
      " 5   Order Value             1000 non-null   int64 \n",
      " 6   Delivery Fee            1000 non-null   int64 \n",
      " 7   Payment Method          1000 non-null   object\n",
      " 8   Discounts and Offers    815 non-null    object\n",
      " 9   Commission Fee          1000 non-null   int64 \n",
      " 10  Payment Processing Fee  1000 non-null   int64 \n",
      " 11  Refunds/Chargebacks     1000 non-null   int64 \n",
      "dtypes: int64(6), object(6)\n",
      "memory usage: 93.9+ KB\n"
     ]
    }
   ],
   "source": [
    "df.info()"
   ]
  },
  {
   "cell_type": "code",
   "execution_count": 5,
   "metadata": {},
   "outputs": [
    {
     "data": {
      "text/plain": [
       "Order ID                   int64\n",
       "Customer ID               object\n",
       "Restaurant ID             object\n",
       "Order Date and Time       object\n",
       "Delivery Date and Time    object\n",
       "Order Value                int64\n",
       "Delivery Fee               int64\n",
       "Payment Method            object\n",
       "Discounts and Offers      object\n",
       "Commission Fee             int64\n",
       "Payment Processing Fee     int64\n",
       "Refunds/Chargebacks        int64\n",
       "dtype: object"
      ]
     },
     "execution_count": 5,
     "metadata": {},
     "output_type": "execute_result"
    }
   ],
   "source": [
    "df.dtypes"
   ]
  },
  {
   "cell_type": "markdown",
   "metadata": {},
   "source": [
    "The dataset contains 1,000 entries and 12 columns,  Now, we need to perform some data cleaning and preparation. Below are the necessary cleaning steps we need to take:\n",
    "\n",
    "Convert “Order Date and Time” and “Delivery Date and Time” to a datetime format.\n",
    "Convert “Discounts and Offers” to a consistent numeric value (if applicable) or calculate the discount amounts.\n",
    "Ensure all monetary values are in a suitable format for calculations."
   ]
  },
  {
   "cell_type": "code",
   "execution_count": 6,
   "metadata": {},
   "outputs": [
    {
     "data": {
      "text/plain": [
       "Order ID                    0\n",
       "Customer ID                 0\n",
       "Restaurant ID               0\n",
       "Order Date and Time         0\n",
       "Delivery Date and Time      0\n",
       "Order Value                 0\n",
       "Delivery Fee                0\n",
       "Payment Method              0\n",
       "Discounts and Offers      185\n",
       "Commission Fee              0\n",
       "Payment Processing Fee      0\n",
       "Refunds/Chargebacks         0\n",
       "dtype: int64"
      ]
     },
     "execution_count": 6,
     "metadata": {},
     "output_type": "execute_result"
    }
   ],
   "source": [
    "df.isnull().sum()"
   ]
  },
  {
   "cell_type": "markdown",
   "metadata": {},
   "source": [
    "Discounts and Offers column as 185 null values so we need handle the null values by completly deleting that rows or column or replacing that values with meadian or mode "
   ]
  },
  {
   "cell_type": "code",
   "execution_count": 7,
   "metadata": {},
   "outputs": [
    {
     "data": {
      "text/plain": [
       "0    10%\n",
       "Name: Discounts and Offers, dtype: object"
      ]
     },
     "execution_count": 7,
     "metadata": {},
     "output_type": "execute_result"
    }
   ],
   "source": [
    "df['Discounts and Offers'].mode() # its is a object "
   ]
  },
  {
   "cell_type": "code",
   "execution_count": 8,
   "metadata": {},
   "outputs": [
    {
     "data": {
      "text/plain": [
       "Order ID                  0\n",
       "Customer ID               0\n",
       "Restaurant ID             0\n",
       "Order Date and Time       0\n",
       "Delivery Date and Time    0\n",
       "Order Value               0\n",
       "Delivery Fee              0\n",
       "Payment Method            0\n",
       "Discounts and Offers      0\n",
       "Commission Fee            0\n",
       "Payment Processing Fee    0\n",
       "Refunds/Chargebacks       0\n",
       "dtype: int64"
      ]
     },
     "execution_count": 8,
     "metadata": {},
     "output_type": "execute_result"
    }
   ],
   "source": [
    "df['Discounts and Offers'] = df['Discounts and Offers'].fillna(df['Discounts and Offers'].mode()[0])\n",
    "df.isnull().sum()"
   ]
  },
  {
   "cell_type": "code",
   "execution_count": 9,
   "metadata": {},
   "outputs": [
    {
     "data": {
      "text/plain": [
       "Order ID                           int64\n",
       "Customer ID                       object\n",
       "Restaurant ID                     object\n",
       "Order Date and Time       datetime64[ns]\n",
       "Delivery Date and Time    datetime64[ns]\n",
       "Order Value                        int64\n",
       "Delivery Fee                       int64\n",
       "Payment Method                    object\n",
       "Discounts and Offers              object\n",
       "Commission Fee                     int64\n",
       "Payment Processing Fee             int64\n",
       "Refunds/Chargebacks                int64\n",
       "dtype: object"
      ]
     },
     "execution_count": 9,
     "metadata": {},
     "output_type": "execute_result"
    }
   ],
   "source": [
    "# Lets perform the cleaning operations \n",
    "# Convert “Order Date and Time” and “Delivery Date and Time” to a datetime format.\n",
    "from datetime import datetime \n",
    "df['Order Date and Time'] = pd.to_datetime(df['Order Date and Time'])\n",
    "df['Delivery Date and Time'] = pd.to_datetime(df['Delivery Date and Time'])\n",
    "df.dtypes"
   ]
  },
  {
   "cell_type": "code",
   "execution_count": 10,
   "metadata": {},
   "outputs": [],
   "source": [
    "# first, let's create a function to extract numeric values from the 'Discounts and Offers' string\n",
    "def extract_discount(discount_str):\n",
    "    if 'off' in discount_str:\n",
    "        # Fixed amount off\n",
    "        return float(discount_str.split(' ')[0])\n",
    "    elif '%' in discount_str:\n",
    "        # Percentage off\n",
    "        return float(discount_str.split('%')[0])\n",
    "    else:\n",
    "        # No discount\n",
    "        return 0.0"
   ]
  },
  {
   "cell_type": "code",
   "execution_count": 11,
   "metadata": {},
   "outputs": [],
   "source": [
    "# apply the function to create a new 'Discount Value' column\n",
    "df['Discount Percentage'] = df['Discounts and Offers'].apply(lambda x: extract_discount(x))"
   ]
  },
  {
   "cell_type": "code",
   "execution_count": 12,
   "metadata": {},
   "outputs": [],
   "source": [
    "df['Discount Amount'] = df.apply(lambda x:(x['Order Value']*x['Discount Percentage']/100)if x['Discount Percentage']>1 else x['Discount Percentage'],axis=1)\n",
    "df['Discount Amount'] = df.apply(lambda x:(x['Order Value']) if x['Discount Percentage'] <= 1 else x['Order Value']*x['Discount Percentage']/100,axis = 1)"
   ]
  },
  {
   "cell_type": "code",
   "execution_count": 13,
   "metadata": {},
   "outputs": [
    {
     "data": {
      "text/html": [
       "<div>\n",
       "<style scoped>\n",
       "    .dataframe tbody tr th:only-of-type {\n",
       "        vertical-align: middle;\n",
       "    }\n",
       "\n",
       "    .dataframe tbody tr th {\n",
       "        vertical-align: top;\n",
       "    }\n",
       "\n",
       "    .dataframe thead th {\n",
       "        text-align: right;\n",
       "    }\n",
       "</style>\n",
       "<table border=\"1\" class=\"dataframe\">\n",
       "  <thead>\n",
       "    <tr style=\"text-align: right;\">\n",
       "      <th></th>\n",
       "      <th>Order Value</th>\n",
       "      <th>Discount Percentage</th>\n",
       "      <th>Discount Amount</th>\n",
       "    </tr>\n",
       "  </thead>\n",
       "  <tbody>\n",
       "    <tr>\n",
       "      <th>0</th>\n",
       "      <td>1914</td>\n",
       "      <td>5.0</td>\n",
       "      <td>95.70</td>\n",
       "    </tr>\n",
       "    <tr>\n",
       "      <th>1</th>\n",
       "      <td>986</td>\n",
       "      <td>10.0</td>\n",
       "      <td>98.60</td>\n",
       "    </tr>\n",
       "    <tr>\n",
       "      <th>2</th>\n",
       "      <td>937</td>\n",
       "      <td>15.0</td>\n",
       "      <td>140.55</td>\n",
       "    </tr>\n",
       "    <tr>\n",
       "      <th>3</th>\n",
       "      <td>1463</td>\n",
       "      <td>10.0</td>\n",
       "      <td>146.30</td>\n",
       "    </tr>\n",
       "    <tr>\n",
       "      <th>4</th>\n",
       "      <td>1992</td>\n",
       "      <td>50.0</td>\n",
       "      <td>996.00</td>\n",
       "    </tr>\n",
       "  </tbody>\n",
       "</table>\n",
       "</div>"
      ],
      "text/plain": [
       "   Order Value  Discount Percentage  Discount Amount\n",
       "0         1914                  5.0            95.70\n",
       "1          986                 10.0            98.60\n",
       "2          937                 15.0           140.55\n",
       "3         1463                 10.0           146.30\n",
       "4         1992                 50.0           996.00"
      ]
     },
     "execution_count": 13,
     "metadata": {},
     "output_type": "execute_result"
    }
   ],
   "source": [
    "df[['Order Value','Discount Percentage','Discount Amount']].head()"
   ]
  },
  {
   "cell_type": "markdown",
   "metadata": {},
   "source": [
    "Order Date and Time and Delivery Date and Time columns have been converted to datetime format.\n",
    "\n",
    "A new column, Discount Amount, has been calculated based on the Discounts and Offers column.\n",
    "\n",
    "This was achieved by extracting percentage discounts or fixed amounts and applying them to the order value.\n",
    "\n",
    "Discount Percentage has been added to represent the discount rate or fixed amount discount directly."
   ]
  },
  {
   "cell_type": "markdown",
   "metadata": {},
   "source": [
    "## Cost and Profitability Analysis"
   ]
  },
  {
   "cell_type": "markdown",
   "metadata": {},
   "source": [
    "For the cost analysis, we’ll consider the following costs associated with each order:\n",
    "\n",
    "Delivery Fee: The fee charged for delivering the order.\n",
    "Payment Processing Fee: The fee for processing the payment.\n",
    "Discount Amount: The discount provided on the order.\n",
    "We’ll calculate the total cost for the platform per order and then aggregate this data to understand the overall cost structure.\n",
    "\n",
    "The revenue for the platform is mainly derived from the Commission Fee. We’ll calculate the net profit by subtracting the total costs (including discounts) from the revenue generated through commission fees."
   ]
  },
  {
   "cell_type": "code",
   "execution_count": 14,
   "metadata": {},
   "outputs": [],
   "source": [
    "# calculate total costs and revenue per order\n",
    "df['Total Cost'] = df['Delivery Fee'] + df['Discount Amount'] + df['Payment Processing Fee']\n",
    "df['revenue'] = df['Commission Fee']\n",
    "df['Profit'] = df['revenue'] - df['Total Cost']\n"
   ]
  },
  {
   "cell_type": "code",
   "execution_count": 15,
   "metadata": {},
   "outputs": [
    {
     "data": {
      "text/plain": [
       "{'Total_orders': 1000,\n",
       " 'Total_revenu': 126990,\n",
       " 'Total_cost': 252095.55,\n",
       " 'Total_profit': -125105.55}"
      ]
     },
     "execution_count": 15,
     "metadata": {},
     "output_type": "execute_result"
    }
   ],
   "source": [
    "# aggregate data to get overall metrics\n",
    "total_orders = df.shape[0]\n",
    "total_revenu = df['revenue'].sum()\n",
    "total_cost = df['Total Cost'].sum()\n",
    "total_profit = df['Profit'].sum()\n",
    "\n",
    "all_metrics = {\n",
    "    'Total_orders':total_orders,\n",
    "    'Total_revenu':total_revenu,\n",
    "    'Total_cost':total_cost,\n",
    "    'Total_profit':total_profit\n",
    "}\n",
    "\n",
    "Metrics = {k: int(v) if isinstance(v, np.integer) else float(v) if isinstance(v, np.floating) else v for k, v in all_metrics.items()}\n",
    "Metrics"
   ]
  },
  {
   "cell_type": "markdown",
   "metadata": {},
   "source": [
    " Based on the analysis, here are the overall metrics for the food delivery operations:\n",
    "\n",
    "\n",
    "Total Orders: 1,000\n",
    "Total Revenue (from Commission Fees): 126,990 INR\n",
    "Total Costs: 232,709.85 INR (including delivery fees, payment processing fees, and discounts)\n",
    "Total Profit: -105,719.85 INR"
   ]
  },
  {
   "cell_type": "markdown",
   "metadata": {},
   "source": [
    "The analysis indicates that the total costs associated with the food delivery operations exceed the total revenue generated from commission fees, resulting in a net loss. It suggests that the current commission rates, delivery fees, and discount strategies might not be sustainable for profitability.\n",
    "\n",
    "To better understand the distribution of costs, revenue, and profit, let’s plot:\n",
    "\n",
    "A histogram of profits per order to visualize the distribution of profitable and unprofitable orders.\n"
   ]
  },
  {
   "cell_type": "code",
   "execution_count": 16,
   "metadata": {},
   "outputs": [
    {
     "data": {
      "image/png": "[encoded data removed]",
      "text/plain": [
       "<Figure size 800x400 with 1 Axes>"
      ]
     },
     "metadata": {},
     "output_type": "display_data"
    }
   ],
   "source": [
    "# Histogram plot to know the distribution of the profit per order\n",
    "plt.figure(figsize=(8,4))\n",
    "plt.hist(df['Profit'],bins=50,color='b',edgecolor = 'k')\n",
    "plt.title('The profit per order Distribution')\n",
    "plt.xlabel('Profit')\n",
    "plt.ylabel('Orders')\n",
    "plt.axvline(df['Profit'].mean(),color = 'red',linestyle = 'dashed',linewidth = 1)\n",
    "plt.show()"
   ]
  },
  {
   "cell_type": "markdown",
   "metadata": {},
   "source": [
    "The histogram shows a wide distribution of profit per order, with a noticeable number of orders resulting in a loss (profits below 0). The red dashed line indicates the average profit, which is in the negative territory, highlighting the overall loss-making situation."
   ]
  },
  {
   "cell_type": "code",
   "execution_count": 17,
   "metadata": {},
   "outputs": [
    {
     "data": {
      "text/plain": [
       "Order ID                           int64\n",
       "Customer ID                       object\n",
       "Restaurant ID                     object\n",
       "Order Date and Time       datetime64[ns]\n",
       "Delivery Date and Time    datetime64[ns]\n",
       "Order Value                        int64\n",
       "Delivery Fee                       int64\n",
       "Payment Method                    object\n",
       "Discounts and Offers              object\n",
       "Commission Fee                     int64\n",
       "Payment Processing Fee             int64\n",
       "Refunds/Chargebacks                int64\n",
       "Discount Percentage              float64\n",
       "Discount Amount                  float64\n",
       "Total Cost                       float64\n",
       "revenue                            int64\n",
       "Profit                           float64\n",
       "dtype: object"
      ]
     },
     "execution_count": 17,
     "metadata": {},
     "output_type": "execute_result"
    }
   ],
   "source": [
    "df.dtypes"
   ]
  },
  {
   "cell_type": "code",
   "execution_count": 18,
   "metadata": {},
   "outputs": [
    {
     "data": {
      "image/png": "[encoded data removed]",
      "text/plain": [
       "<Figure size 600x600 with 1 Axes>"
      ]
     },
     "metadata": {},
     "output_type": "display_data"
    }
   ],
   "source": [
    "# A pie chart to visualize the proportion of total costs (delivery fees, payment processing fees, andm discounts).\n",
    "costs_breakdown = df[['Delivery Fee', 'Payment Processing Fee', 'Discount Amount']].sum()\n",
    "plt.figure(figsize=(6, 6))\n",
    "plt.pie(costs_breakdown, labels=costs_breakdown.index, autopct='%1.1f%%', startangle=140, colors=['tomato', 'gold', 'lightblue'])\n",
    "plt.title('Proportion of Total Costs in Food Delivery')\n",
    "plt.show()"
   ]
  },
  {
   "cell_type": "markdown",
   "metadata": {},
   "source": [
    " The pie chart illustrates the breakdown of total costs into delivery fees, payment processing fees, and discount amounts. Discounts constitute a significant portion of the costs, suggesting that promotional strategies might be heavily impacting overall profitability."
   ]
  },
  {
   "cell_type": "code",
   "execution_count": 19,
   "metadata": {},
   "outputs": [
    {
     "data": {
      "image/png": "[encoded data removed]",
      "text/plain": [
       "<Figure size 640x480 with 1 Axes>"
      ]
     },
     "metadata": {},
     "output_type": "display_data"
    }
   ],
   "source": [
    "# Now lets compare the total cost, total profit, total revenue by using the bar plot\n",
    "total = ['Total_revenu','Total_cost','Total_profit']\n",
    "values = [total_revenu,total_cost,total_profit]\n",
    "plt.Figure(figsize=(8,6))\n",
    "plt.bar(total,values,color = ['red','green','blue'])\n",
    "plt.title('Total Revenue, Costs, and Profit')\n",
    "plt.ylabel('Amount INR')\n",
    "plt.show()"
   ]
  },
  {
   "cell_type": "markdown",
   "metadata": {},
   "source": [
    "The bar chart compares total revenue, total costs, and total profit. It visually represents the gap between revenue and costs, clearly showing that the costs surpass the revenue, leading to a total loss."
   ]
  },
  {
   "cell_type": "markdown",
   "metadata": {},
   "source": [
    "# A New Strategy for Profits"
   ]
  },
  {
   "cell_type": "markdown",
   "metadata": {},
   "source": [
    "From the analysis so far we understood that the discounts on food orders are resulting in huge losses. Now, we need to find a new strategy for profitability. We need to find a sweet spot for offering discounts and charging commissions. To find a sweet spot for commission and discount percentages, we can analyze the characteristics of profitable orders more deeply. Specifically, we need to look for:\n",
    "\n",
    "A new average commission percentage based on profitable orders.\n",
    "A new average discount percentage for profitable orders, that could serve as a guideline for what level of discount still allows for profitability.\n",
    "\n",
    "Given these new averages, we can suggest adjustments that might not only make individual orders profitable but also apply broadly across all orders to improve overall profitability. Let’s calculate:\n",
    "\n",
    "The average commission percentage for profitable orders.\n",
    "The average discount percentage for profitable orders."
   ]
  },
  {
   "cell_type": "code",
   "execution_count": 20,
   "metadata": {},
   "outputs": [],
   "source": [
    "# Filter the dataset based on the profit orders \n",
    "profitable_orders = df[df['Profit'] > 0]"
   ]
  },
  {
   "cell_type": "code",
   "execution_count": 21,
   "metadata": {},
   "outputs": [],
   "source": [
    "# calculating the commission fees percentage for profit orders \n",
    "profitable_orders['Commission Percentage'] = (profitable_orders['Commission Fee']/profitable_orders['Order Value'])*100\n",
    "\n",
    "# calculating the Discount percentage for profitable orders \n",
    "profitable_orders['Effective Discount Percentage'] = (profitable_orders['Discount Amount']/profitable_orders['Order Value'])*100\n",
    "\n",
    "#Calculating the new averages \n",
    "new_commission_percentage_average = profitable_orders['Commission Percentage'].mean()\n",
    "new_discount_percenatge_average = profitable_orders['Effective Discount Percentage'].mean()\n",
    "\n",
    "#Printing the avearges \n",
    "# print(new_commission_percentage_average,new_discount_percenatge_average)"
   ]
  },
  {
   "cell_type": "code",
   "execution_count": 22,
   "metadata": {},
   "outputs": [
    {
     "name": "stdout",
     "output_type": "stream",
     "text": [
      "37.99993176163184 9.950657894736842\n"
     ]
    }
   ],
   "source": [
    "# filter the dataset for profitable orders\n",
    "profitable_orders = df[df['Profit'] > 0]\n",
    "\n",
    "# calculate the average commission percentage for profitable orders\n",
    "profitable_orders['Commission Percentage'] = (profitable_orders['Commission Fee'] / profitable_orders['Order Value']) * 100\n",
    "\n",
    "# calculate the average discount percentage for profitable orders\n",
    "profitable_orders['Effective Discount Percentage'] = (profitable_orders['Discount Amount'] / profitable_orders['Order Value']) * 100\n",
    "\n",
    "# calculate the new averages\n",
    "new_avg_commission_percentage = profitable_orders['Commission Percentage'].mean()\n",
    "new_avg_discount_percentage = profitable_orders['Effective Discount Percentage'].mean()\n",
    "\n",
    "print(new_avg_commission_percentage, new_avg_discount_percentage)"
   ]
  },
  {
   "cell_type": "markdown",
   "metadata": {},
   "source": [
    "Based on the analysis of profitable orders, we find a new set of averages that could represent a “sweet spot” for commission and discount percentages:\n",
    "\n",
    "New Average Commission Percentage: 37.99%\n",
    "\n",
    "New Average Discount Percentage: 9.95%"
   ]
  },
  {
   "cell_type": "markdown",
   "metadata": {},
   "source": [
    "The average commission percentage for profitable orders is significantly higher than the overall average across all orders. It suggests that a higher commission rate on orders might be a key factor in achieving profitability. The average discount percentage for profitable orders is notably lower than the overall average, indicating that lower discounts might contribute to profitability without significantly deterring order volume.\n",
    "\n",
    "Based on this analysis, a strategy that aims for a commission rate closer to 37% and a discount rate around 9% could potentially improve profitability across the board."
   ]
  },
  {
   "cell_type": "markdown",
   "metadata": {},
   "source": [
    "Now, let’s visualize a comparison of profitability using actual versus recommended discounts and commissions across all orders. For this, we need to:"
   ]
  },
  {
   "cell_type": "markdown",
   "metadata": {},
   "source": [
    "1 Calculate the profitability per order using the actual discounts and commissions already present in the dataset.\n",
    "\n",
    "2 Simulate profitability per order using the recommended discounts (9%) and commissions (37%) to see the potential impact on profitability."
   ]
  },
  {
   "cell_type": "markdown",
   "metadata": {},
   "source": [
    "This comparison will help illustrate the potential impact of adopting the recommended discount and commission rates on the overall profitability of orders."
   ]
  },
  {
   "cell_type": "code",
   "execution_count": 23,
   "metadata": {},
   "outputs": [],
   "source": [
    "# The recommanded Discount and Commssion fees Percentages\n",
    "recommanded_commission_fee_percentage  = 37.0 \n",
    "recommanded_discount_amount_percentage = 9.0 \n",
    "\n",
    "# Calculating the estimated commission fee and discount amount \n",
    "df['Estimated commission fee'] = df['Order Value']*(recommanded_commission_fee_percentage/100)\n",
    "df['Estimated discount amount'] = df['Order Value']*(recommanded_discount_amount_percentage/100)\n"
   ]
  },
  {
   "cell_type": "code",
   "execution_count": 24,
   "metadata": {},
   "outputs": [],
   "source": [
    "# Recalculating the the Total costs and profit by using the estimated dicount amount and commission fees \n",
    "df['Estimated total cost'] = (df['Delivery Fee']+df['Payment Processing Fee']+df['Estimated discount amount'])\n",
    "df['Estimated Profit'] = (df['Estimated commission fee'] - df['Estimated total cost'])\n"
   ]
  },
  {
   "cell_type": "code",
   "execution_count": 25,
   "metadata": {},
   "outputs": [
    {
     "name": "stdout",
     "output_type": "stream",
     "text": [
      "     Total Cost  Estimated total cost  Profit  Estimated Profit\n",
      "0        142.70                219.26    7.30            488.92\n",
      "1        161.60                151.74   36.40            213.08\n",
      "2        215.55                159.33  -20.55            187.36\n",
      "3        223.30                208.67  -77.30            332.64\n",
      "4       1076.00                259.28 -946.00            477.76\n",
      "..          ...                   ...     ...               ...\n",
      "995       88.25                121.25   76.75            184.00\n",
      "996      254.70                238.43 -144.70            363.56\n",
      "997      106.30                100.77  -42.30            103.84\n",
      "998      246.10                161.26  -47.10            361.92\n",
      "999      295.55                196.13 -115.55            416.96\n",
      "\n",
      "[1000 rows x 4 columns]\n"
     ]
    }
   ],
   "source": [
    "print(df[['Total Cost','Estimated total cost','Profit','Estimated Profit']])"
   ]
  },
  {
   "cell_type": "markdown",
   "metadata": {},
   "source": [
    "## Visulazing the Comaprsion between the Actual Profit and Estimated Profit "
   ]
  },
  {
   "cell_type": "code",
   "execution_count": 26,
   "metadata": {},
   "outputs": [
    {
     "data": {
      "image/png": "[encoded data removed]",
      "text/plain": [
       "<Figure size 1400x700 with 1 Axes>"
      ]
     },
     "metadata": {},
     "output_type": "display_data"
    }
   ],
   "source": [
    "# for comaprison we need the kde plot\n",
    "import seaborn as sns\n",
    "plt.figure(figsize=(14,7))\n",
    "\n",
    "# Actual Profit \n",
    "sns.kdeplot(df['Total Cost'],label='Actual Profit',linewidth = 2,fill = True,alpha=0.5)\n",
    "\n",
    "# Estimated Profit \n",
    "sns.kdeplot(df['Estimated Profit'],label = 'Estimated profit with recommanded rates',fill = True,alpha = 0.5,linewidth = 2)\n",
    "plt.axvline(df['Profit'].mean(),color = 'red',linestyle = 'dashed',linewidth = 3)\n",
    "plt.axvline(df['Estimated Profit'].mean(),color = 'g',linestyle = 'dashed',linewidth = 4)\n",
    "plt.title('Comparison of Profitability in Food Delivery: Actual vs. Recommended Discounts and Commissions')\n",
    "plt.xlabel('Profit')\n",
    "plt.ylabel('Density')\n",
    "plt.legend(loc='upper left')\n",
    "plt.show()\n",
    "\n",
    "\n"
   ]
  },
  {
   "cell_type": "markdown",
   "metadata": {},
   "source": [
    "The visualization compares the distribution of profitability per order using actual discounts and commissions versus the simulated scenario with recommended discounts (9%) and commissions (37%)"
   ]
  },
  {
   "cell_type": "markdown",
   "metadata": {},
   "source": [
    "The actual profitability distribution shows a mix, with a significant portion of orders resulting in losses (profit < 0) and a broad spread of profit levels for orders. The simulated scenario suggests a shift towards higher profitability per order. The distribution is more skewed towards positive profit, indicating that the recommended adjustments could lead to a higher proportion of profitable orders"
   ]
  },
  {
   "cell_type": "markdown",
   "metadata": {},
   "source": [
    "1.The Red line show that the average Actual profit.\n",
    "\n",
    "2.The Green line show that the average estimated profit with recommanded discount percentage and recommanded commission fees."
   ]
  }
 ],
 "metadata": {
  "kernelspec": {
   "display_name": "Python 3",
   "language": "python",
   "name": "python3"
  },
  "language_info": {
   "codemirror_mode": {
    "name": "ipython",
    "version": 3
   },
   "file_extension": ".py",
   "mimetype": "text/x-python",
   "name": "python",
   "nbconvert_exporter": "python",
   "pygments_lexer": "ipython3",
   "version": "3.12.0"
  }
 },
 "nbformat": 4,
 "nbformat_minor": 2
}
